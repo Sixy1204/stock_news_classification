{
 "cells": [
  {
   "cell_type": "markdown",
   "metadata": {},
   "source": [
    "##### 台積電，鴻海 ，大立光 #####"
   ]
  },
  {
   "cell_type": "code",
   "execution_count": 1,
   "metadata": {},
   "outputs": [],
   "source": [
    "import os\n",
    "import numpy as np\n",
    "import pandas as pd\n",
    "import re,random\n",
    "import jieba\n",
    "from sklearn import metrics\n",
    "from sklearn.model_selection import train_test_split \n",
    "from sklearn.feature_extraction.text import CountVectorizer, TfidfVectorizer \n",
    "from sklearn import tree\n",
    "from sklearn.ensemble import GradientBoostingClassifier"
   ]
  },
  {
   "cell_type": "code",
   "execution_count": 2,
   "metadata": {},
   "outputs": [],
   "source": [
    "stop_list=[]\n",
    "with open('./stopword.txt','r',encoding='utf-8') as f:\n",
    "    for line in f.readlines():\n",
    "        stop_list.append(line.strip())"
   ]
  },
  {
   "cell_type": "code",
   "execution_count": 3,
   "metadata": {},
   "outputs": [],
   "source": [
    "def preprocess(data,all_data,category):\n",
    "    for idx, line in enumerate(data):\n",
    "        line = re.sub(r'[^\\w]','',line)\n",
    "        line = re.sub(r'[A-Za-z0-9]','',line)\n",
    "        line = re.sub(u'[\\uFF01-\\uFF5A]','',line)\n",
    "        line = re.sub(r'http[s]?://(?:[a-zA-Z]|[0-9]|[$-_@.&+]|[!*\\(\\),]|(?:%[0-9a-fA-F][0-9a-fA-F]))','',line)\n",
    "        segment_list = jieba.lcut(line)\n",
    "        segment_list = filter(lambda x: len(x)>1,segment_list)\n",
    "        segment_list = filter(lambda x: x not in stop_list,segment_list)\n",
    "        all_data.append( (' '.join(segment_list),category[idx]) )\n",
    "    return all_data"
   ]
  },
  {
   "cell_type": "code",
   "execution_count": 4,
   "metadata": {},
   "outputs": [],
   "source": [
    "def load_data(fileName):\n",
    "    filePath = \"./\" + fileName + \"/\"\n",
    "    pos = pd.read_csv(filePath + os.listdir(filePath)[2])\n",
    "    neg = pd.read_csv(filePath + os.listdir(filePath)[1])\n",
    "    pre_data = pd.concat([pos,neg],axis=0)\n",
    "    data = []\n",
    "    text = pd.DataFrame(columns=[\"text\",\"label\"])\n",
    "    text[\"text\"] = pre_data[\"title\"].fillna(\"\")+pre_data[\"content\"].fillna(\"\")\n",
    "    text[\"label\"] = pre_data[\"label\"] \n",
    "    text= text.reset_index(drop=True)\n",
    "    data =  preprocess(text[\"text\"],data,text[\"label\"])\n",
    "    return data"
   ]
  },
  {
   "cell_type": "code",
   "execution_count": 5,
   "metadata": {
    "scrolled": true
   },
   "outputs": [
    {
     "name": "stderr",
     "output_type": "stream",
     "text": [
      "Building prefix dict from the default dictionary ...\n",
      "Loading model from cache C:\\Users\\xiaoy\\AppData\\Local\\Temp\\jieba.cache\n",
      "Loading model cost 0.600 seconds.\n",
      "Prefix dict has been built successfully.\n"
     ]
    }
   ],
   "source": [
    "fileName = '台積電'\n",
    "data = load_data(fileName)\n",
    "random.shuffle(data)\n",
    "x,y = zip(*data)\n",
    "x_train, x_test, y_train, y_test = train_test_split(x,y,test_size=0.3,random_state=666)"
   ]
  },
  {
   "cell_type": "code",
   "execution_count": 6,
   "metadata": {
    "scrolled": true
   },
   "outputs": [
    {
     "data": {
      "text/plain": [
       "TfidfVectorizer(analyzer='word', binary=False, decode_error='strict',\n",
       "                dtype=<class 'numpy.float64'>, encoding='utf-8',\n",
       "                input='content', lowercase=True, max_df=1.0, max_features=8000,\n",
       "                min_df=1, ngram_range=(2, 6), norm='l2', preprocessor=None,\n",
       "                smooth_idf=True, stop_words=None, strip_accents=None,\n",
       "                sublinear_tf=False, token_pattern='(?u)\\\\b\\\\w\\\\w+\\\\b',\n",
       "                tokenizer=None, use_idf=True, vocabulary=None)"
      ]
     },
     "execution_count": 6,
     "metadata": {},
     "output_type": "execute_result"
    }
   ],
   "source": [
    "vec = CountVectorizer(\n",
    "    analyzer='word', \n",
    "    ngram_range=(2,6), \n",
    "    max_features=8000\n",
    ")\n",
    "vec.fit(x_train)\n",
    "\n",
    "tvec = TfidfVectorizer(\n",
    "    analyzer='word',\n",
    "    ngram_range=(2,6), \n",
    "    max_features=8000 \n",
    ")\n",
    "tvec.fit(x_train)"
   ]
  },
  {
   "cell_type": "code",
   "execution_count": 12,
   "metadata": {},
   "outputs": [
    {
     "name": "stdout",
     "output_type": "stream",
     "text": [
      "0.6805225653206651\n"
     ]
    }
   ],
   "source": [
    "clf = tree.DecisionTreeClassifier() \n",
    "clf = clf.fit(tvec.transform(x_train),y_train)\n",
    "result = clf.score(tvec.transform(x_test),y_test)\n",
    "print(result)"
   ]
  },
  {
   "cell_type": "code",
   "execution_count": 53,
   "metadata": {},
   "outputs": [
    {
     "name": "stdout",
     "output_type": "stream",
     "text": [
      "[1]\n"
     ]
    }
   ],
   "source": [
    "print(clf.predict(tvec.transform(['資本 美元 創歷史 目標 價元 資挺鴻海 目標 外資'])))"
   ]
  },
  {
   "cell_type": "code",
   "execution_count": 8,
   "metadata": {},
   "outputs": [
    {
     "name": "stdout",
     "output_type": "stream",
     "text": [
      "0.6963578780680918\n"
     ]
    }
   ],
   "source": [
    "gbdt = GradientBoostingClassifier()\n",
    "gbdt = gbdt.fit(tvec.transform(x_train),y_train)\n",
    "result = gbdt.score(tvec.transform(x_test),y_test)\n",
    "print(result)"
   ]
  }
 ],
 "metadata": {
  "kernelspec": {
   "display_name": "Python 3",
   "language": "python",
   "name": "python3"
  },
  "language_info": {
   "codemirror_mode": {
    "name": "ipython",
    "version": 3
   },
   "file_extension": ".py",
   "mimetype": "text/x-python",
   "name": "python",
   "nbconvert_exporter": "python",
   "pygments_lexer": "ipython3",
   "version": "3.6.10"
  }
 },
 "nbformat": 4,
 "nbformat_minor": 4
}
