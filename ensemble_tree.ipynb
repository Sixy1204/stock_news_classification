{
 "cells": [
  {
   "cell_type": "code",
   "execution_count": 1,
   "metadata": {},
   "outputs": [],
   "source": [
    "import os\n",
    "import numpy as np\n",
    "import pandas as pd\n",
    "import re,random\n",
    "import jieba\n",
    "import time\n",
    "from sklearn import metrics\n",
    "from sklearn.model_selection import train_test_split \n",
    "from sklearn.feature_extraction.text import CountVectorizer, TfidfVectorizer \n",
    "from sklearn import tree\n",
    "#from sklearn.ensemble import GradientBoostingClassifier\n",
    "from xgboost import XGBClassifier\n",
    "from sklearn.pipeline import make_pipeline\n",
    "from sklearn.preprocessing import OneHotEncoder\n",
    "from sklearn.linear_model import LogisticRegression"
   ]
  },
  {
   "cell_type": "code",
   "execution_count": 3,
   "metadata": {},
   "outputs": [],
   "source": [
    "stop_list=[]\n",
    "with open('./stopword.txt','r',encoding='utf-8') as f:\n",
    "    for line in f.readlines():\n",
    "        stop_list.append(line.strip())"
   ]
  },
  {
   "cell_type": "code",
   "execution_count": 4,
   "metadata": {},
   "outputs": [],
   "source": [
    "def preprocess(data,all_data,category):\n",
    "    for idx, line in enumerate(data):\n",
    "        line = re.sub(r'[^\\w]','',line)\n",
    "        line = re.sub(r'[A-Za-z0-9]','',line)\n",
    "        line = re.sub(u'[\\uFF01-\\uFF5A]','',line)\n",
    "        line = re.sub(r'http[s]?://(?:[a-zA-Z]|[0-9]|[$-_@.&+]|[!*\\(\\),]|(?:%[0-9a-fA-F][0-9a-fA-F]))','',line)\n",
    "        segment_list = jieba.lcut(line)\n",
    "        segment_list = filter(lambda x: len(x)>1,segment_list)\n",
    "        segment_list = filter(lambda x: x not in stop_list,segment_list)\n",
    "        all_data.append( (' '.join(segment_list),category[idx]) )\n",
    "    return all_data"
   ]
  },
  {
   "cell_type": "code",
   "execution_count": 5,
   "metadata": {},
   "outputs": [],
   "source": [
    "def load_data(fileName):\n",
    "    filePath = \"label_result/\"  \n",
    "    pos = pd.read_csv(filePath + fileName + \".csv_P.csv\")\n",
    "    neg = pd.read_csv(filePath + fileName + \".csv_N.csv\")\n",
    "    pre_data = pd.concat([pos,neg],axis=0)\n",
    "    data = []\n",
    "    text = pd.DataFrame(columns=[\"text\",\"label\"])\n",
    "    text[\"text\"] = pre_data[\"title\"].fillna(\"\")+pre_data[\"content\"].fillna(\"\")\n",
    "    text[\"label\"] = pre_data[\"label\"] \n",
    "    text= text.reset_index(drop=True)\n",
    "    data =  preprocess(text[\"text\"],data,text[\"label\"])\n",
    "    return data"
   ]
  },
  {
   "cell_type": "code",
   "execution_count": 6,
   "metadata": {
    "scrolled": true
   },
   "outputs": [
    {
     "name": "stderr",
     "output_type": "stream",
     "text": [
      "Building prefix dict from the default dictionary ...\n",
      "Loading model from cache C:\\Users\\xiaoy\\AppData\\Local\\Temp\\jieba.cache\n",
      "Loading model cost 0.588 seconds.\n",
      "Prefix dict has been built successfully.\n"
     ]
    }
   ],
   "source": [
    "fileName = '台積電'\n",
    "data = load_data(fileName)\n",
    "random.shuffle(data)\n",
    "x,y = zip(*data)\n",
    "x_train, x_test, y_train, y_test = train_test_split(x,y,test_size=0.3,random_state=666)"
   ]
  },
  {
   "cell_type": "code",
   "execution_count": 9,
   "metadata": {
    "scrolled": true
   },
   "outputs": [
    {
     "data": {
      "text/plain": [
       "TfidfVectorizer(analyzer='word', binary=False, decode_error='strict',\n",
       "                dtype=<class 'numpy.float64'>, encoding='utf-8',\n",
       "                input='content', lowercase=True, max_df=1.0, max_features=8000,\n",
       "                min_df=1, ngram_range=(2, 6), norm='l2', preprocessor=None,\n",
       "                smooth_idf=True, stop_words=None, strip_accents=None,\n",
       "                sublinear_tf=False, token_pattern='(?u)\\\\b\\\\w\\\\w+\\\\b',\n",
       "                tokenizer=None, use_idf=True, vocabulary=None)"
      ]
     },
     "execution_count": 9,
     "metadata": {},
     "output_type": "execute_result"
    }
   ],
   "source": [
    "vec = CountVectorizer(\n",
    "    analyzer='word', \n",
    "    ngram_range=(2,6), \n",
    "    max_features=8000\n",
    ")\n",
    "vec.fit(x_train)\n",
    "\n",
    "tvec = TfidfVectorizer(\n",
    "    analyzer='word',\n",
    "    ngram_range=(2,6), \n",
    "    max_features=8000 \n",
    ")\n",
    "tvec.fit(x_train)"
   ]
  },
  {
   "cell_type": "code",
   "execution_count": 14,
   "metadata": {},
   "outputs": [
    {
     "data": {
      "text/plain": [
       "0.567223963775688"
      ]
     },
     "execution_count": 14,
     "metadata": {},
     "output_type": "execute_result"
    }
   ],
   "source": [
    "# baseline decision tree\n",
    "dt = tree.DecisionTreeClassifier() \n",
    "dt.fit(tvec.transform(x_train),y_train)\n",
    "dt.score(tvec.transform(x_test),y_test)"
   ]
  },
  {
   "cell_type": "code",
   "execution_count": 16,
   "metadata": {},
   "outputs": [
    {
     "data": {
      "text/plain": [
       "0.584813653779171"
      ]
     },
     "execution_count": 16,
     "metadata": {},
     "output_type": "execute_result"
    }
   ],
   "source": [
    "xgboost = XGBClassifier()\n",
    "xgboost.fit(tvec.transform(x_train),y_train)\n",
    "xgboost.score(tvec.transform(x_test),y_test)"
   ]
  },
  {
   "cell_type": "code",
   "execution_count": 18,
   "metadata": {
    "scrolled": true
   },
   "outputs": [
    {
     "name": "stdout",
     "output_type": "stream",
     "text": [
      "[-1.]\n",
      "[1.]\n"
     ]
    }
   ],
   "source": [
    "print(dt.predict(tvec.transform(['資本 美元 資挺鴻海 目標 外資'])))\n",
    "print(xgboost.predict(tvec.transform(['資本 美元 資挺鴻海 目標 外資'])))"
   ]
  }
 ],
 "metadata": {
  "kernelspec": {
   "display_name": "Python 3",
   "language": "python",
   "name": "python3"
  },
  "language_info": {
   "codemirror_mode": {
    "name": "ipython",
    "version": 3
   },
   "file_extension": ".py",
   "mimetype": "text/x-python",
   "name": "python",
   "nbconvert_exporter": "python",
   "pygments_lexer": "ipython3",
   "version": "3.6.10"
  }
 },
 "nbformat": 4,
 "nbformat_minor": 4
}
