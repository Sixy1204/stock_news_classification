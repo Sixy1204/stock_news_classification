{
 "cells": [
  {
   "cell_type": "code",
   "execution_count": 1,
   "metadata": {},
   "outputs": [],
   "source": [
    "import os\n",
    "import numpy as np\n",
    "import pandas as pd\n",
    "import re,random\n",
    "import jieba\n",
    "import pickle \n",
    "from sklearn import metrics \n",
    "from sklearn.model_selection import train_test_split \n",
    "from sklearn.feature_extraction.text import CountVectorizer, TfidfVectorizer \n",
    "from sklearn import tree\n",
    "from xgboost import XGBClassifier\n",
    "from sklearn.metrics import log_loss\n",
    "from hyperopt import fmin, tpe, hp, space_eval, rand, Trials, partial, STATUS_OK\n",
    "from hyperopt.pyll import scope\n",
    "import matplotlib.pyplot as plt\n",
    "import seaborn as sn"
   ]
  },
  {
   "cell_type": "code",
   "execution_count": 2,
   "metadata": {},
   "outputs": [],
   "source": [
    "stop_list=[]\n",
    "with open('./stopword.txt','r',encoding='utf-8') as f:\n",
    "    for line in f.readlines():\n",
    "        stop_list.append(line.strip())"
   ]
  },
  {
   "cell_type": "code",
   "execution_count": 3,
   "metadata": {},
   "outputs": [],
   "source": [
    "def preprocess(data,all_data,category):\n",
    "    for idx, line in enumerate(data):\n",
    "        line = re.sub(r'[^\\w]','',line)\n",
    "        line = re.sub(r'[A-Za-z0-9]','',line)\n",
    "        line = re.sub(u'[\\uFF01-\\uFF5A]','',line)\n",
    "        line = re.sub(r'http[s]?://(?:[a-zA-Z]|[0-9]|[$-_@.&+]|[!*\\(\\),]|(?:%[0-9a-fA-F][0-9a-fA-F]))','',line)\n",
    "        segment_list = jieba.lcut(line)\n",
    "        segment_list = filter(lambda x: len(x)>1,segment_list)\n",
    "        segment_list = filter(lambda x: x not in stop_list,segment_list)\n",
    "        all_data.append( (' '.join(segment_list),category[idx]) )\n",
    "    return all_data"
   ]
  },
  {
   "cell_type": "code",
   "execution_count": 4,
   "metadata": {},
   "outputs": [],
   "source": [
    "def load_data(filePath, fileName):\n",
    "    pos = pd.read_csv(filePath + fileName + \".csv_P.csv\")\n",
    "    print(\"number of positive docs:%d\" %len(pos))\n",
    "    neg = pd.read_csv(filePath + fileName + \".csv_N.csv\")\n",
    "    print(\"number of negative docs:%d\"%len(neg))\n",
    "    pre_data = pd.concat([pos,neg],axis=0)\n",
    "    data = []\n",
    "    text = pd.DataFrame(columns=[\"text\",\"label\"])\n",
    "    text[\"text\"] = pre_data[\"title\"].fillna(\"\")+pre_data[\"content\"].fillna(\"\")\n",
    "    text[\"label\"] = pre_data[\"label\"] \n",
    "    text= text.reset_index(drop=True)\n",
    "    data =  preprocess(text[\"text\"],data,text[\"label\"])\n",
    "    return data"
   ]
  },
  {
   "cell_type": "code",
   "execution_count": 5,
   "metadata": {
    "scrolled": true
   },
   "outputs": [
    {
     "name": "stdout",
     "output_type": "stream",
     "text": [
      "number of positive docs:7029\n"
     ]
    },
    {
     "name": "stderr",
     "output_type": "stream",
     "text": [
      "Building prefix dict from the default dictionary ...\n",
      "Loading model from cache C:\\Users\\xiaoy\\AppData\\Local\\Temp\\jieba.cache\n"
     ]
    },
    {
     "name": "stdout",
     "output_type": "stream",
     "text": [
      "number of negative docs:7289\n"
     ]
    },
    {
     "name": "stderr",
     "output_type": "stream",
     "text": [
      "Loading model cost 0.638 seconds.\n",
      "Prefix dict has been built successfully.\n"
     ]
    }
   ],
   "source": [
    "filePath = \"./\"  \n",
    "fileName = \"鴻海\"\n",
    "data = load_data(filePath ,fileName)\n",
    "random.shuffle(data)\n",
    "x,y = zip(*data)\n",
    "x_train, x_test, y_train, y_test = train_test_split(x,y,test_size=0.3,random_state=666)"
   ]
  },
  {
   "cell_type": "code",
   "execution_count": 6,
   "metadata": {},
   "outputs": [],
   "source": [
    "stocks = {}\n",
    "stocks[\"台積電\"]=\"tmx\"\n",
    "stocks[\"大立光\"]=\"dlg\"\n",
    "stocks[\"鴻海\"]=\"hh\""
   ]
  },
  {
   "cell_type": "code",
   "execution_count": 7,
   "metadata": {},
   "outputs": [],
   "source": [
    "stockname = stocks[fileName]"
   ]
  },
  {
   "cell_type": "code",
   "execution_count": 8,
   "metadata": {
    "scrolled": true
   },
   "outputs": [
    {
     "data": {
      "text/plain": [
       "TfidfVectorizer(analyzer='word', binary=False, decode_error='strict',\n",
       "                dtype=<class 'numpy.float64'>, encoding='utf-8',\n",
       "                input='content', lowercase=True, max_df=1.0, max_features=8000,\n",
       "                min_df=1, ngram_range=(2, 6), norm='l2', preprocessor=None,\n",
       "                smooth_idf=True, stop_words=None, strip_accents=None,\n",
       "                sublinear_tf=False, token_pattern='(?u)\\\\b\\\\w\\\\w+\\\\b',\n",
       "                tokenizer=None, use_idf=True, vocabulary=None)"
      ]
     },
     "execution_count": 8,
     "metadata": {},
     "output_type": "execute_result"
    }
   ],
   "source": [
    "tvec = TfidfVectorizer(\n",
    "    analyzer='word',\n",
    "    ngram_range=(2,6), \n",
    "    max_features=8000 \n",
    ")\n",
    "tvec.fit(x_train)"
   ]
  },
  {
   "cell_type": "code",
   "execution_count": 9,
   "metadata": {},
   "outputs": [
    {
     "name": "stdout",
     "output_type": "stream",
     "text": [
      "Decision tree f1-score: 0.5725\n",
      "Decision tree accuracy: 0.5815\n"
     ]
    }
   ],
   "source": [
    "# baseline decision tree\n",
    "dt = tree.DecisionTreeClassifier() \n",
    "dt.fit(tvec.transform(x_train),y_train)\n",
    "dt_pred = dt.predict(tvec.transform(x_test))\n",
    "print ('Decision tree f1-score: %.4f' %metrics.f1_score(y_test,dt_pred))\n",
    "print ('Decision tree accuracy: %.4f' %metrics. accuracy_score(y_test,dt_pred))"
   ]
  },
  {
   "cell_type": "code",
   "execution_count": 10,
   "metadata": {},
   "outputs": [
    {
     "data": {
      "text/plain": [
       "\"\\n# default\\nxgboost = XGBClassifier()\\nxgboost.fit(tvec.transform(x_train),y_train)\\nxgboost_pred = xgboost.predict(tvec.transform(x_test))\\nprint ('Default xgboost f1-score: %.4f' %metrics.f1_score(y_test,xgboost_pred))\\nprint ('Default xgboost accuracy: %.4f' %metrics. accuracy_score(y_test,xgboost_pred))\\n\""
      ]
     },
     "execution_count": 10,
     "metadata": {},
     "output_type": "execute_result"
    }
   ],
   "source": [
    "'''\n",
    "# default\n",
    "xgboost = XGBClassifier()\n",
    "xgboost.fit(tvec.transform(x_train),y_train)\n",
    "xgboost_pred = xgboost.predict(tvec.transform(x_test))\n",
    "print ('Default xgboost f1-score: %.4f' %metrics.f1_score(y_test,xgboost_pred))\n",
    "print ('Default xgboost accuracy: %.4f' %metrics. accuracy_score(y_test,xgboost_pred))\n",
    "'''\n"
   ]
  },
  {
   "cell_type": "code",
   "execution_count": 11,
   "metadata": {
    "scrolled": false
   },
   "outputs": [],
   "source": [
    "# XGB parameters\n",
    "xgb_clf_params = {\n",
    "    'learning_rate':    hp.uniform('learning_rate', 0.001, 0.01),\n",
    "    'max_depth':        scope.int(hp.quniform('max_depth', 5, 20, q=1)),\n",
    "    'subsample':        hp.uniform('subsample', 0.8, 1),\n",
    "    'n_estimators':     scope.int(hp.quniform('n_estimators', 50, 300, q=1))\n",
    "}\n",
    "xgb_fit_params = {\n",
    "    'eval_metric': 'logloss',\n",
    "    'early_stopping_rounds': 10,\n",
    "    'verbose': False\n",
    "}\n",
    "\n",
    "xgb_para = dict()\n",
    "xgb_para['clf_params'] = xgb_clf_params\n",
    "xgb_para['fit_params'] = xgb_fit_params\n",
    "xgb_para['loss_func' ] = lambda y, pred: log_loss(y, pred, eps=1e-15, normalize=True)"
   ]
  },
  {
   "cell_type": "code",
   "execution_count": 12,
   "metadata": {},
   "outputs": [],
   "source": [
    "class XGopt(object):\n",
    "    def __init__(self, x_train, x_test, y_train, y_test):\n",
    "        self.x_train = x_train\n",
    "        self.x_test  = x_test\n",
    "        self.y_train = y_train\n",
    "        self.y_test  = y_test\n",
    "\n",
    "    def process(self, fn_name, space, trials, algo, max_evals):\n",
    "        fn = getattr(self, fn_name)\n",
    "        result = fmin(fn=fn, space=space, algo=algo, max_evals=max_evals, trials=trials)\n",
    "        return result, trials\n",
    "\n",
    "    def xgb_clf(self, para):\n",
    "        clf = XGBClassifier(**para['clf_params'])\n",
    "        return self.train_clf(clf, para)\n",
    "\n",
    "    def train_clf(self, clf, para):\n",
    "        clf.fit(self.x_train, self.y_train,\n",
    "                eval_set=[(self.x_train, self.y_train), (self.x_test, self.y_test)],\n",
    "                **para['fit_params'])\n",
    "        pred = clf.predict(self.x_test)\n",
    "        loss = para['loss_func'](self.y_test, pred)\n",
    "        return {'loss': loss, 'status': STATUS_OK}\n"
   ]
  },
  {
   "cell_type": "code",
   "execution_count": 13,
   "metadata": {
    "scrolled": true
   },
   "outputs": [
    {
     "name": "stdout",
     "output_type": "stream",
     "text": [
      "100%|███████████████████████████████████████████████| 100/100 [46:58<00:00, 28.18s/trial, best loss: 14.02152904989558]\n"
     ]
    }
   ],
   "source": [
    "obj = XGopt(tvec.transform(x_train), tvec.transform(x_test), y_train, y_test)\n",
    "xgb_opt,trials = obj.process(fn_name='xgb_clf', space=xgb_para, trials=Trials(), algo=tpe.suggest, max_evals=100)"
   ]
  },
  {
   "cell_type": "code",
   "execution_count": 21,
   "metadata": {
    "scrolled": false
   },
   "outputs": [
    {
     "name": "stdout",
     "output_type": "stream",
     "text": [
      "Best setting {'learning_rate': 0.009893997782568695, 'max_depth': 20.0, 'n_estimators': 217.0, 'subsample': 0.8370043011977011}\n"
     ]
    },
    {
     "data": {
      "image/png": "[encoded data removed]",
      "text/plain": [
       "<Figure size 432x288 with 1 Axes>"
      ]
     },
     "metadata": {
      "needs_background": "light"
     },
     "output_type": "display_data"
    }
   ],
   "source": [
    "x = np.arange(100)\n",
    "y = [x['loss'] for x in trials.results]\n",
    "fig = plt.figure()\n",
    "plt.scatter(x, y)\n",
    "plt.xlabel(\"epoch of hyper parameter searching\")\n",
    "plt.ylabel(\"Logloss\")\n",
    "plt.title(\"XGBoost Log Loss\")\n",
    "fig.savefig(\"images/\"+ stockname + \"_search.png\")\n",
    "print(\"Best setting\",xgb_opt)"
   ]
  },
  {
   "cell_type": "code",
   "execution_count": 22,
   "metadata": {},
   "outputs": [],
   "source": [
    "best = {}\n",
    "for para,value in xgb_opt.items():\n",
    "    if para == 'max_depth' or para ==  'n_estimators':\n",
    "        best[para] = int(value)\n",
    "    else:\n",
    "        best[para] = value"
   ]
  },
  {
   "cell_type": "code",
   "execution_count": 23,
   "metadata": {
    "scrolled": false
   },
   "outputs": [
    {
     "data": {
      "text/plain": [
       "XGBClassifier(base_score=0.5, booster=None, colsample_bylevel=1,\n",
       "              colsample_bynode=1, colsample_bytree=1, gamma=0, gpu_id=-1,\n",
       "              importance_type='gain', interaction_constraints=None,\n",
       "              learning_rate=0.009893997782568695, max_delta_step=0,\n",
       "              max_depth=20, min_child_weight=1, missing=nan,\n",
       "              monotone_constraints=None, n_estimators=217, n_jobs=0,\n",
       "              num_parallel_tree=1, objective='binary:logistic', random_state=0,\n",
       "              reg_alpha=0, reg_lambda=1, scale_pos_weight=1,\n",
       "              subsample=0.8370043011977011, tree_method=None,\n",
       "              validate_parameters=False, verbosity=None)"
      ]
     },
     "execution_count": 23,
     "metadata": {},
     "output_type": "execute_result"
    }
   ],
   "source": [
    "xgb = XGBClassifier(**best)\n",
    "eval_set = [(tvec.transform(x_train), y_train), (tvec.transform(x_test), y_test)]\n",
    "xgb.fit(tvec.transform(x_train), y_train, eval_metric=[\"error\", \"logloss\"], eval_set=eval_set, verbose=False)"
   ]
  },
  {
   "cell_type": "code",
   "execution_count": 24,
   "metadata": {},
   "outputs": [],
   "source": [
    "with open(\"models/\" +  stockname + \".pickle\" , 'wb') as f:\n",
    "    pickle.dump(xgb, f)"
   ]
  },
  {
   "cell_type": "code",
   "execution_count": 25,
   "metadata": {
    "scrolled": true
   },
   "outputs": [
    {
     "name": "stdout",
     "output_type": "stream",
     "text": [
      "Optimal xgboost f1-score: 0.6177\n",
      "Optimal xgboost accuracy: 0.5940\n"
     ]
    }
   ],
   "source": [
    "pred = xgb.predict(tvec.transform(x_test))\n",
    "print ('Optimal xgboost f1-score: %.4f' %metrics.f1_score(y_test,pred))\n",
    "print ('Optimal xgboost accuracy: %.4f' %metrics. accuracy_score(y_test,pred))\n",
    "con = metrics.confusion_matrix(y_test,pred)"
   ]
  },
  {
   "cell_type": "code",
   "execution_count": 26,
   "metadata": {
    "scrolled": true
   },
   "outputs": [
    {
     "data": {
      "image/png": "[encoded data removed]",
      "text/plain": [
       "<Figure size 432x288 with 2 Axes>"
      ]
     },
     "metadata": {
      "needs_background": "light"
     },
     "output_type": "display_data"
    }
   ],
   "source": [
    "f, ax = plt.subplots(figsize = (6, 4))\n",
    "sn.heatmap(con,annot=True,fmt ='g',cmap='Purples',xticklabels =['-1','1'], yticklabels=['-1','1'])\n",
    "ax.set_title('Confusion matrix for '+stockname)\n",
    "ax.set_xlabel('Predict')\n",
    "ax.set_ylabel('Fact')\n",
    "f.savefig(\"images/\"+ stockname + \"_con.png\")"
   ]
  },
  {
   "cell_type": "code",
   "execution_count": 28,
   "metadata": {},
   "outputs": [
    {
     "data": {
      "image/png": "[encoded data removed]",
      "text/plain": [
       "<Figure size 432x288 with 1 Axes>"
      ]
     },
     "metadata": {
      "needs_background": "light"
     },
     "output_type": "display_data"
    },
    {
     "data": {
      "image/png": "[encoded data removed]",
      "text/plain": [
       "<Figure size 432x288 with 1 Axes>"
      ]
     },
     "metadata": {
      "needs_background": "light"
     },
     "output_type": "display_data"
    }
   ],
   "source": [
    "# retrieve performance metrics\n",
    "results = xgb.evals_result()\n",
    "epochs = len(results['validation_0']['error'])\n",
    "x_axis = range(0, epochs)\n",
    "# plot log loss\n",
    "fig, ax = plt.subplots()\n",
    "ax.plot(x_axis, results['validation_0']['logloss'], label='Train')\n",
    "ax.plot(x_axis, results['validation_1']['logloss'], label='Test')\n",
    "ax.legend()\n",
    "plt.xlabel('Epoch')\n",
    "plt.ylabel('Log Loss')\n",
    "plt.title('XGBoost Log Loss')\n",
    "fig.savefig(\"images/\"+ stockname + \"_loss.png\")\n",
    "# plot classification error\n",
    "fig, ax = plt.subplots()\n",
    "ax.plot(x_axis, results['validation_0']['error'], label='Train')\n",
    "ax.plot(x_axis, results['validation_1']['error'], label='Test')\n",
    "ax.legend()\n",
    "plt.xlabel('Epoch')\n",
    "plt.ylabel('Classification Error')\n",
    "plt.title('XGBoost Classification Error')\n",
    "fig.savefig(\"images/\"+ stockname + \"_error.png\")"
   ]
  }
 ],
 "metadata": {
  "kernelspec": {
   "display_name": "Python 3",
   "language": "python",
   "name": "python3"
  },
  "language_info": {
   "codemirror_mode": {
    "name": "ipython",
    "version": 3
   },
   "file_extension": ".py",
   "mimetype": "text/x-python",
   "name": "python",
   "nbconvert_exporter": "python",
   "pygments_lexer": "ipython3",
   "version": "3.6.10"
  }
 },
 "nbformat": 4,
 "nbformat_minor": 4
}
