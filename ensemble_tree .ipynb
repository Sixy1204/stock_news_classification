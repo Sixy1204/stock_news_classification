{
 "cells": [
  {
   "cell_type": "code",
   "execution_count": 189,
   "metadata": {},
   "outputs": [],
   "source": [
    "import os\n",
    "import numpy as np\n",
    "import pandas as pd\n",
    "import re,random\n",
    "import jieba\n",
    "import time\n",
    "from sklearn.model_selection import train_test_split \n",
    "from sklearn.feature_extraction.text import CountVectorizer, TfidfVectorizer \n",
    "from sklearn import tree\n",
    "from xgboost import XGBClassifier\n",
    "from sklearn.metrics import log_loss\n",
    "from hyperopt import fmin, tpe, hp, space_eval, rand, Trials, partial, STATUS_OK\n",
    "from hyperopt.pyll import scope\n",
    "import matplotlib.pyplot as plt"
   ]
  },
  {
   "cell_type": "code",
   "execution_count": 2,
   "metadata": {},
   "outputs": [],
   "source": [
    "stop_list=[]\n",
    "with open('./stopword.txt','r',encoding='utf-8') as f:\n",
    "    for line in f.readlines():\n",
    "        stop_list.append(line.strip())"
   ]
  },
  {
   "cell_type": "code",
   "execution_count": 3,
   "metadata": {},
   "outputs": [],
   "source": [
    "def preprocess(data,all_data,category):\n",
    "    for idx, line in enumerate(data):\n",
    "        line = re.sub(r'[^\\w]','',line)\n",
    "        line = re.sub(r'[A-Za-z0-9]','',line)\n",
    "        line = re.sub(u'[\\uFF01-\\uFF5A]','',line)\n",
    "        line = re.sub(r'http[s]?://(?:[a-zA-Z]|[0-9]|[$-_@.&+]|[!*\\(\\),]|(?:%[0-9a-fA-F][0-9a-fA-F]))','',line)\n",
    "        segment_list = jieba.lcut(line)\n",
    "        segment_list = filter(lambda x: len(x)>1,segment_list)\n",
    "        segment_list = filter(lambda x: x not in stop_list,segment_list)\n",
    "        all_data.append( (' '.join(segment_list),category[idx]) )\n",
    "    return all_data"
   ]
  },
  {
   "cell_type": "code",
   "execution_count": 5,
   "metadata": {},
   "outputs": [],
   "source": [
    "def load_data(fileName):\n",
    "    filePath = \"label_result/\"  \n",
    "    pos = pd.read_csv(filePath + fileName + \".csv_P.csv\")\n",
    "    print(\"number of positive docs:%d\" %len(pos))\n",
    "    neg = pd.read_csv(filePath + fileName + \".csv_N.csv\")\n",
    "    print(\"number of negative docs:%d\"%len(neg))\n",
    "    pre_data = pd.concat([pos,neg],axis=0)\n",
    "    data = []\n",
    "    text = pd.DataFrame(columns=[\"text\",\"label\"])\n",
    "    text[\"text\"] = pre_data[\"title\"].fillna(\"\")+pre_data[\"content\"].fillna(\"\")\n",
    "    text[\"label\"] = pre_data[\"label\"] \n",
    "    text= text.reset_index(drop=True)\n",
    "    data =  preprocess(text[\"text\"],data,text[\"label\"])\n",
    "    return data"
   ]
  },
  {
   "cell_type": "code",
   "execution_count": 70,
   "metadata": {
    "scrolled": false
   },
   "outputs": [
    {
     "name": "stdout",
     "output_type": "stream",
     "text": [
      "number of positive docs:10666\n",
      "number of negative docs:8474\n"
     ]
    }
   ],
   "source": [
    "fileName = '台積電'\n",
    "data = load_data(fileName)\n",
    "random.shuffle(data)\n",
    "x,y = zip(*data)\n",
    "x_train, x_test, y_train, y_test = train_test_split(x,y,test_size=0.3,random_state=666)"
   ]
  },
  {
   "cell_type": "code",
   "execution_count": 36,
   "metadata": {
    "scrolled": true
   },
   "outputs": [
    {
     "data": {
      "text/plain": [
       "TfidfVectorizer(analyzer='word', binary=False, decode_error='strict',\n",
       "                dtype=<class 'numpy.float64'>, encoding='utf-8',\n",
       "                input='content', lowercase=True, max_df=1.0, max_features=8000,\n",
       "                min_df=1, ngram_range=(2, 6), norm='l2', preprocessor=None,\n",
       "                smooth_idf=True, stop_words=None, strip_accents=None,\n",
       "                sublinear_tf=False, token_pattern='(?u)\\\\b\\\\w\\\\w+\\\\b',\n",
       "                tokenizer=None, use_idf=True, vocabulary=None)"
      ]
     },
     "execution_count": 36,
     "metadata": {},
     "output_type": "execute_result"
    }
   ],
   "source": [
    "tvec = TfidfVectorizer(\n",
    "    analyzer='word',\n",
    "    ngram_range=(2,6), \n",
    "    max_features=8000 \n",
    ")\n",
    "tvec.fit(x_train)"
   ]
  },
  {
   "cell_type": "code",
   "execution_count": 39,
   "metadata": {},
   "outputs": [
    {
     "data": {
      "text/plain": [
       "0.5585161964472309"
      ]
     },
     "execution_count": 39,
     "metadata": {},
     "output_type": "execute_result"
    }
   ],
   "source": [
    "# baseline decision tree\n",
    "dt = tree.DecisionTreeClassifier() \n",
    "dt.fit(tvec.transform(x_train),y_train)\n",
    "dt.score(tvec.transform(x_test),y_test)"
   ]
  },
  {
   "cell_type": "code",
   "execution_count": 124,
   "metadata": {},
   "outputs": [
    {
     "data": {
      "text/plain": [
       "0.5940438871473355"
      ]
     },
     "execution_count": 124,
     "metadata": {},
     "output_type": "execute_result"
    }
   ],
   "source": [
    "# default\n",
    "xgboost = XGBClassifier()\n",
    "xgboost.fit(tvec.transform(x_train),y_train)\n",
    "xgboost.score(tvec.transform(x_test),y_test)"
   ]
  },
  {
   "cell_type": "code",
   "execution_count": 170,
   "metadata": {
    "scrolled": false
   },
   "outputs": [],
   "source": [
    "# XGB parameters\n",
    "xgb_clf_params = {\n",
    "    'learning_rate':    hp.uniform('learning_rate', 0.001, 0.01),\n",
    "    'max_depth':        scope.int(hp.quniform('max_depth', 5, 20, q=1)),\n",
    "    'subsample':        hp.uniform('subsample', 0.8, 1),\n",
    "    'n_estimators':     scope.int(hp.quniform('n_estimators', 50, 300, q=1))\n",
    "}\n",
    "xgb_fit_params = {\n",
    "    'eval_metric': 'logloss',\n",
    "    'early_stopping_rounds': 10,\n",
    "    'verbose': False\n",
    "}\n",
    "\n",
    "xgb_para = dict()\n",
    "xgb_para['clf_params'] = xgb_clf_params\n",
    "xgb_para['fit_params'] = xgb_fit_params\n",
    "xgb_para['loss_func' ] = lambda y, pred: log_loss(y, pred, eps=1e-15, normalize=True)"
   ]
  },
  {
   "cell_type": "code",
   "execution_count": 138,
   "metadata": {},
   "outputs": [],
   "source": [
    "class XGopt(object):\n",
    "    def __init__(self, x_train, x_test, y_train, y_test):\n",
    "        self.x_train = x_train\n",
    "        self.x_test  = x_test\n",
    "        self.y_train = y_train\n",
    "        self.y_test  = y_test\n",
    "\n",
    "    def process(self, fn_name, space, trials, algo, max_evals):\n",
    "        fn = getattr(self, fn_name)\n",
    "        result = fmin(fn=fn, space=space, algo=algo, max_evals=max_evals, trials=trials)\n",
    "        return result, trials\n",
    "\n",
    "    def xgb_clf(self, para):\n",
    "        clf = XGBClassifier(**para['clf_params'])\n",
    "        return self.train_clf(clf, para)\n",
    "\n",
    "    def train_clf(self, clf, para):\n",
    "        clf.fit(self.x_train, self.y_train,\n",
    "                eval_set=[(self.x_train, self.y_train), (self.x_test, self.y_test)],\n",
    "                **para['fit_params'])\n",
    "        pred = clf.predict(self.x_test)\n",
    "        loss = para['loss_func'](self.y_test, pred)\n",
    "        return {'loss': loss, 'status': STATUS_OK}\n"
   ]
  },
  {
   "cell_type": "code",
   "execution_count": 193,
   "metadata": {
    "scrolled": true
   },
   "outputs": [
    {
     "name": "stdout",
     "output_type": "stream",
     "text": [
      "100%|██████████████████████████████████████████████| 100/100 [44:29<00:00, 26.69s/trial, best loss: 13.750825293492946]\n"
     ]
    }
   ],
   "source": [
    "obj = XGopt(tvec.transform(x_train), tvec.transform(x_test), y_train, y_test)\n",
    "xgb_opt,trials = obj.process(fn_name='xgb_clf', space=xgb_para, trials=Trials(), algo=tpe.suggest, max_evals=100)"
   ]
  },
  {
   "cell_type": "code",
   "execution_count": 200,
   "metadata": {
    "scrolled": true
   },
   "outputs": [
    {
     "name": "stdout",
     "output_type": "stream",
     "text": [
      "Best setting {'learning_rate': 0.009456658402286445, 'max_depth': 20.0, 'n_estimators': 254.0, 'subsample': 0.8487501679890097}\n"
     ]
    },
    {
     "data": {
      "image/png": "[encoded data removed]",
      "text/plain": [
       "<Figure size 432x288 with 1 Axes>"
      ]
     },
     "metadata": {
      "needs_background": "light"
     },
     "output_type": "display_data"
    }
   ],
   "source": [
    "x = np.arange(100)\n",
    "y = [x['loss'] for x in trials.results]\n",
    "plt.scatter(x, y)\n",
    "plt.xlabel(\"epoch of hyper parameter searching\")\n",
    "plt.ylabel(\"Logloss\")\n",
    "plt.title(\"TMX hyper parameter searching\")\n",
    "plt.savefig(\"tmx.png\")\n",
    "print(\"Best setting\",xgb_opt)"
   ]
  },
  {
   "cell_type": "code",
   "execution_count": 197,
   "metadata": {},
   "outputs": [
    {
     "data": {
      "text/plain": [
       "0.6018808777429467"
      ]
     },
     "execution_count": 197,
     "metadata": {},
     "output_type": "execute_result"
    }
   ],
   "source": [
    "xgb = XGBClassifier(learning_rate = 0.009456658402286445, max_depth = 20, n_estimators = 254, subsample = 0.8487501679890097)\n",
    "xgb.fit(tvec.transform(x_train),y_train)\n",
    "xgb.score(tvec.transform(x_test),y_test)"
   ]
  }
 ],
 "metadata": {
  "kernelspec": {
   "display_name": "Python 3",
   "language": "python",
   "name": "python3"
  },
  "language_info": {
   "codemirror_mode": {
    "name": "ipython",
    "version": 3
   },
   "file_extension": ".py",
   "mimetype": "text/x-python",
   "name": "python",
   "nbconvert_exporter": "python",
   "pygments_lexer": "ipython3",
   "version": "3.6.10"
  }
 },
 "nbformat": 4,
 "nbformat_minor": 4
}
